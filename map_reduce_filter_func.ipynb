{
 "cells": [
  {
   "cell_type": "code",
   "execution_count": 1,
   "id": "59c983c3-64b8-49b8-959b-ababd2f2aa4b",
   "metadata": {},
   "outputs": [],
   "source": [
    "l =[2,3,4,5,7,8]"
   ]
  },
  {
   "cell_type": "code",
   "execution_count": 4,
   "id": "ef1674c7-520c-47d0-a0a5-8eba7362755f",
   "metadata": {},
   "outputs": [],
   "source": [
    "def test(l): #using ext function\n",
    "    l1 =[]\n",
    "    for i in l:\n",
    "        l1.append(i**2)\n",
    "    return l1"
   ]
  },
  {
   "cell_type": "code",
   "execution_count": 5,
   "id": "2c480aca-160a-4eaa-bb76-a7f69fe9d30a",
   "metadata": {},
   "outputs": [
    {
     "data": {
      "text/plain": [
       "[4, 9, 16, 25, 49, 64]"
      ]
     },
     "execution_count": 5,
     "metadata": {},
     "output_type": "execute_result"
    }
   ],
   "source": [
    "test(l)"
   ]
  },
  {
   "cell_type": "code",
   "execution_count": 10,
   "id": "d6134489-ed88-44f1-91f2-1bda85721b5a",
   "metadata": {
    "tags": []
   },
   "outputs": [],
   "source": [
    "# map is function is do is map every one one by one"
   ]
  },
  {
   "cell_type": "code",
   "execution_count": 11,
   "id": "5e878606-d96f-40a0-9d7d-b9808b237d00",
   "metadata": {},
   "outputs": [],
   "source": [
    "def sq(x):\n",
    "    return x**2"
   ]
  },
  {
   "cell_type": "code",
   "execution_count": 13,
   "id": "3c960766-af7e-4557-bfd8-5cc61d2d1737",
   "metadata": {},
   "outputs": [
    {
     "data": {
      "text/plain": [
       "[4, 9, 16, 25, 49, 64]"
      ]
     },
     "execution_count": 13,
     "metadata": {},
     "output_type": "execute_result"
    }
   ],
   "source": [
    "list(map(sq,l))  ### map is taking two parameter"
   ]
  },
  {
   "cell_type": "code",
   "execution_count": 16,
   "id": "a42f8b99-7b7d-4b38-b62b-af0a621a30eb",
   "metadata": {},
   "outputs": [
    {
     "data": {
      "text/plain": [
       "[4, 9, 16, 25, 49, 64]"
      ]
     },
     "execution_count": 16,
     "metadata": {},
     "output_type": "execute_result"
    }
   ],
   "source": [
    "list(map(lambda x: x**2,l))"
   ]
  },
  {
   "cell_type": "code",
   "execution_count": 17,
   "id": "d02aac5c-be14-424e-aa0d-ae552654e316",
   "metadata": {},
   "outputs": [
    {
     "data": {
      "text/plain": [
       "[7, 9, 11, 13, 15]"
      ]
     },
     "execution_count": 17,
     "metadata": {},
     "output_type": "execute_result"
    }
   ],
   "source": [
    "l1 = [1,2,3,4,5]\n",
    "l2 = [6,7,8,9,10]\n",
    "list(map(lambda x,y : x+y,l1,l2))"
   ]
  },
  {
   "cell_type": "code",
   "execution_count": null,
   "id": "a80f517b-bc4d-4a3c-8739-0b7bec98ec63",
   "metadata": {},
   "outputs": [],
   "source": [
    "# using external function"
   ]
  },
  {
   "cell_type": "code",
   "execution_count": 18,
   "id": "6b32a209-7eaa-477d-a33f-d822e7382853",
   "metadata": {},
   "outputs": [],
   "source": [
    "def add(x,y):\n",
    "    return x+y"
   ]
  },
  {
   "cell_type": "code",
   "execution_count": 19,
   "id": "341ff571-73e9-4afc-9095-e22b8aa87099",
   "metadata": {},
   "outputs": [
    {
     "data": {
      "text/plain": [
       "[7, 9, 11, 13, 15]"
      ]
     },
     "execution_count": 19,
     "metadata": {},
     "output_type": "execute_result"
    }
   ],
   "source": [
    "list(map(add,l1,l2))"
   ]
  },
  {
   "cell_type": "code",
   "execution_count": 20,
   "id": "7d0a8f66-e29c-4332-8baf-0ffbf0b94684",
   "metadata": {},
   "outputs": [
    {
     "data": {
      "text/plain": [
       "['P', 'W', 'S', 'K', 'I', 'L', 'L', 'S']"
      ]
     },
     "execution_count": 20,
     "metadata": {},
     "output_type": "execute_result"
    }
   ],
   "source": [
    "s = \"pwskills\"\n",
    "list(map(lambda s : s.upper(),s))"
   ]
  },
  {
   "cell_type": "code",
   "execution_count": 25,
   "id": "7494d4f8-002d-4b91-905a-0f5a5e3e9bf7",
   "metadata": {},
   "outputs": [],
   "source": [
    "# reduce func : it reduce the function means we will add any thing to do in function "
   ]
  },
  {
   "cell_type": "code",
   "execution_count": 22,
   "id": "666cd677-5735-45a7-9b8a-fb124d8e7af6",
   "metadata": {},
   "outputs": [],
   "source": [
    "from functools import reduce"
   ]
  },
  {
   "cell_type": "code",
   "execution_count": 28,
   "id": "4bd9a5f6-8e5d-4254-bd93-70a1a47a6c28",
   "metadata": {},
   "outputs": [],
   "source": [
    "l =[1,2,3,4,5,6,7]\n"
   ]
  },
  {
   "cell_type": "code",
   "execution_count": 31,
   "id": "a3189a24-9619-4305-89a7-f59835b11195",
   "metadata": {},
   "outputs": [
    {
     "data": {
      "text/plain": [
       "28"
      ]
     },
     "execution_count": 31,
     "metadata": {},
     "output_type": "execute_result"
    }
   ],
   "source": [
    "reduce(lambda x,y : x+y,l) # only pass 2 parameter"
   ]
  },
  {
   "cell_type": "code",
   "execution_count": 32,
   "id": "1e5c03bd-402e-4d9f-9288-a90f209e71d3",
   "metadata": {},
   "outputs": [
    {
     "data": {
      "text/plain": [
       "1"
      ]
     },
     "execution_count": 32,
     "metadata": {},
     "output_type": "execute_result"
    }
   ],
   "source": [
    "reduce(lambda x,y : x+y ,[1])"
   ]
  },
  {
   "cell_type": "code",
   "execution_count": 34,
   "id": "eefb5b6f-34f9-4909-80b3-1e3f4de2957d",
   "metadata": {},
   "outputs": [],
   "source": [
    "l =[1,2,3,4,7,9]"
   ]
  },
  {
   "cell_type": "code",
   "execution_count": 35,
   "id": "6f1500d8-a29c-4302-a96d-a94af103d444",
   "metadata": {},
   "outputs": [
    {
     "data": {
      "text/plain": [
       "9"
      ]
     },
     "execution_count": 35,
     "metadata": {},
     "output_type": "execute_result"
    }
   ],
   "source": [
    "reduce(lambda x,y : x if x>y else y,l)"
   ]
  },
  {
   "cell_type": "code",
   "execution_count": 36,
   "id": "62041f6e-cc82-450d-95e8-12fcd6c29c8a",
   "metadata": {},
   "outputs": [],
   "source": [
    "# filter funct is do filter"
   ]
  },
  {
   "cell_type": "code",
   "execution_count": 37,
   "id": "55372d87-8dba-4f53-8af8-d880acad8d61",
   "metadata": {},
   "outputs": [
    {
     "data": {
      "text/plain": [
       "[1, 2, 3, 4, 7, 9]"
      ]
     },
     "execution_count": 37,
     "metadata": {},
     "output_type": "execute_result"
    }
   ],
   "source": [
    "l "
   ]
  },
  {
   "cell_type": "code",
   "execution_count": 38,
   "id": "18fc1b97-80ba-46be-a65b-4771fd52b8e5",
   "metadata": {},
   "outputs": [
    {
     "data": {
      "text/plain": [
       "[2, 4]"
      ]
     },
     "execution_count": 38,
     "metadata": {},
     "output_type": "execute_result"
    }
   ],
   "source": [
    "list(filter(lambda x : x%2==0,l))"
   ]
  },
  {
   "cell_type": "code",
   "execution_count": 40,
   "id": "54997c8b-03f9-4986-9602-1dba8acf585d",
   "metadata": {},
   "outputs": [
    {
     "data": {
      "text/plain": [
       "[1, 3, 7, 9]"
      ]
     },
     "execution_count": 40,
     "metadata": {},
     "output_type": "execute_result"
    }
   ],
   "source": [
    "list(filter(lambda x: x%2!=0,l))"
   ]
  },
  {
   "cell_type": "code",
   "execution_count": 42,
   "id": "d0da28d3-1e37-4940-8b3d-5bd42b414743",
   "metadata": {},
   "outputs": [],
   "source": [
    "l2 =['kunj','vanshuu','pw','urvi']"
   ]
  },
  {
   "cell_type": "code",
   "execution_count": 45,
   "id": "8e3c6cb4-c0bd-423b-ad4e-7d208820a795",
   "metadata": {},
   "outputs": [
    {
     "data": {
      "text/plain": [
       "['kunj', 'pw', 'urvi']"
      ]
     },
     "execution_count": 45,
     "metadata": {},
     "output_type": "execute_result"
    }
   ],
   "source": [
    "list(filter(lambda x : len(x)<6,l2))"
   ]
  },
  {
   "cell_type": "code",
   "execution_count": null,
   "id": "d48e0052-ef42-4839-9046-9b5eb4192c86",
   "metadata": {},
   "outputs": [],
   "source": []
  }
 ],
 "metadata": {
  "kernelspec": {
   "display_name": "Python 3 (ipykernel)",
   "language": "python",
   "name": "python3"
  },
  "language_info": {
   "codemirror_mode": {
    "name": "ipython",
    "version": 3
   },
   "file_extension": ".py",
   "mimetype": "text/x-python",
   "name": "python",
   "nbconvert_exporter": "python",
   "pygments_lexer": "ipython3",
   "version": "3.10.8"
  }
 },
 "nbformat": 4,
 "nbformat_minor": 5
}
