{
 "cells": [
  {
   "cell_type": "code",
   "execution_count": 1,
   "id": "85180fd9-62bd-4e0b-817a-08c005bb84c6",
   "metadata": {},
   "outputs": [],
   "source": [
    "#Q1 :\n",
    "\n",
    "string = \"Hello World\"\n",
    "list = [1, 2, 3]\n",
    "float = 3.14\n",
    "tuple = (1, 2, 3)"
   ]
  },
  {
   "cell_type": "code",
   "execution_count": 2,
   "id": "75dde860-57d0-4cf2-8e24-b0dbfc40fc55",
   "metadata": {},
   "outputs": [],
   "source": [
    "#Q2:\n",
    "\n",
    "var1 = '' # string\n",
    "var2 = '[ DS , ML , Python]' # string\n",
    "var3 = ['DS', 'ML', 'Python'] # list\n",
    "var4 = 1. # float\n"
   ]
  },
  {
   "attachments": {},
   "cell_type": "markdown",
   "id": "d1a90a6f-789b-4bb0-b34b-51a8ce957c82",
   "metadata": {},
   "source": [
    "Q3:\n",
    "\n",
    "\"/\": It gives back the division's quotient. For instance, 10/3 will result in 3.3333333333333335.\n",
    "%: The modulo operation is performed using this operator. It gives back the division's remaining value. 10% 3 will, for instance, return 1.\n",
    "//: The floor division operator is used. It gives back the division's quotient, rounded to the nearest integer. For illustration, 10 // 3 will result in 3.\n",
    "**: Exponentiation is done using this operator. The outcome of raising the first operand to the power of the second operand is what is returned. For instance, the result of 2 ** 3 is 8."
   ]
  },
  {
   "cell_type": "code",
   "execution_count": 1,
   "id": "a6135112-5e5f-453c-80bf-d389e4e01b16",
   "metadata": {},
   "outputs": [
    {
     "name": "stdout",
     "output_type": "stream",
     "text": [
      "<class 'int'>\n",
      "1\n",
      "<class 'int'>\n",
      "23\n",
      "<class 'int'>\n",
      "53\n",
      "<class 'str'>\n",
      "python\n",
      "<class 'str'>\n",
      "R\n",
      "<class 'float'>\n",
      "3.23\n",
      "<class 'str'>\n",
      "mongo db\n",
      "<class 'int'>\n",
      "4\n",
      "<class 'int'>\n",
      "5\n",
      "<class 'float'>\n",
      "4.65\n"
     ]
    }
   ],
   "source": [
    "#Q4:\n",
    "l =[1,23,53, \"python\",\"R\",3.23,\"mongo db\",4,5,4.65]\n",
    "\n",
    "for i in l:\n",
    "    print(type(i))\n",
    "    print(i)"
   ]
  },
  {
   "cell_type": "code",
   "execution_count": null,
   "id": "61c0f938-cea7-4270-81ed-4d6f859b0df2",
   "metadata": {},
   "outputs": [],
   "source": [
    "#Q5:\n",
    "\n",
    "a = int(input())\n",
    "b = int(input())\n",
    "sum =0\n",
    "while a%b==0:\n",
    "    sum = sum +1\n",
    "    a= a/b\n",
    "if sum>0:\n",
    "    print(f\"A is {sum} time divisible by B\" )\n",
    "else:\n",
    "    print(f\"A is not divisble by B\")\n",
    "    "
   ]
  },
  {
   "cell_type": "code",
   "execution_count": null,
   "id": "781c07b0-64c8-406f-b406-24d3106053cf",
   "metadata": {},
   "outputs": [],
   "source": [
    "#Q6:\n",
    "\n",
    "numbers = [7, 12, 15, 67, 10, 18, 21, 4, 27, 76, 33, 36, 39, 42, 45, 48, 51, 54, 57, 60, 63, 66, 69, 72, 75]\n",
    "\n",
    "for num in numbers:\n",
    "    if num % 3 == 0:\n",
    "        print(num, \"is divisible by 3\")\n",
    "    else:\n",
    "        print(num, \"is not divisible by 3\")\n"
   ]
  },
  {
   "attachments": {},
   "cell_type": "markdown",
   "id": "eaec1b18-8a76-4109-8062-8cce4f9fb10c",
   "metadata": {},
   "source": [
    "Q7:\n",
    "\n",
    "IMMUTABLE : Data types classified as immutable are those whose values cannot be altered after creation. Any action that seems to change an immutable object actually produces a brand-new object with the desired value. Strings, tuples, booleans, floating, integers, and floats are a few examples of immutable data types.\n",
    "MUTABLE:\n",
    "mutable data types are those that can be modified after they are created. Changes made to a mutable object affect the object itself, without creating a new object. Examples of mutable data types include lists, dictionaries, and sets."
   ]
  },
  {
   "cell_type": "code",
   "execution_count": null,
   "id": "2f8ad8d4-3320-450c-aa39-09b25fd00e96",
   "metadata": {},
   "outputs": [],
   "source": [
    "#Q8:\n",
    "\n",
    "string1 = \"Hello\"\n",
    "string2 = string1\n",
    "string1 += \" World\"\n",
    "\n",
    "print(string1)  \n",
    "print(string2)  \n"
   ]
  },
  {
   "cell_type": "code",
   "execution_count": null,
   "id": "c1cb8cf4-7e1f-40e8-9700-892bd0dd1a81",
   "metadata": {},
   "outputs": [],
   "source": [
    "#Q9:\n",
    "\n",
    "list1 = [1, 2, 3]\n",
    "list2 = list1\n",
    "list1.append(4)\n",
    "\n",
    "print(list1)  \n",
    "print(list2)\n"
   ]
  },
  {
   "cell_type": "code",
   "execution_count": null,
   "id": "0ffb19e6-c9f6-45f4-bea6-567cf5fdb849",
   "metadata": {},
   "outputs": [],
   "source": []
  }
 ],
 "metadata": {
  "kernelspec": {
   "display_name": "Python 3 (ipykernel)",
   "language": "python",
   "name": "python3"
  },
  "language_info": {
   "codemirror_mode": {
    "name": "ipython",
    "version": 3
   },
   "file_extension": ".py",
   "mimetype": "text/x-python",
   "name": "python",
   "nbconvert_exporter": "python",
   "pygments_lexer": "ipython3",
   "version": "3.11.4"
  }
 },
 "nbformat": 4,
 "nbformat_minor": 5
}
