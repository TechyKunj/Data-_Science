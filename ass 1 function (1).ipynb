{
 "cells": [
  {
   "cell_type": "code",
   "execution_count": 1,
   "id": "30f7e036-0a1c-4644-819e-00921a48e3a3",
   "metadata": {},
   "outputs": [
    {
     "data": {
      "text/plain": [
       "[1, 3, 5, 7, 9, 11, 13, 15, 17, 19, 21, 23, 25]"
      ]
     },
     "execution_count": 1,
     "metadata": {},
     "output_type": "execute_result"
    }
   ],
   "source": [
    "#Q 1.Which keyword is used to create a function? Create a function to return a list of odd numbers in the\n",
    "#range of 1 to 25.\n",
    "# Ans:The keyword is used for create function is def.\n",
    "#1 way\n",
    "def odd_numbers():\n",
    "    return[num for num in range(1,26)if num%2!=0]\n",
    "odd_numbers()\n",
    "    \n",
    "\n",
    "    "
   ]
  },
  {
   "cell_type": "code",
   "execution_count": 2,
   "id": "c4b9b05e-2df9-4158-8670-9218a7102d92",
   "metadata": {},
   "outputs": [
    {
     "data": {
      "text/plain": [
       "[1, 3, 5, 7, 9, 11, 13, 15, 17, 19, 21, 23, 25]"
      ]
     },
     "execution_count": 2,
     "metadata": {},
     "output_type": "execute_result"
    }
   ],
   "source": [
    "# 2 way \n",
    "def odd(a,b):\n",
    "    if a%2==0:\n",
    "        a = a+1\n",
    "    odds = list(range(a,b,2))\n",
    "    return odds\n",
    "odd(1,26)"
   ]
  },
  {
   "cell_type": "code",
   "execution_count": 3,
   "id": "dca72900-bed9-4646-97ae-dcfe9a154394",
   "metadata": {},
   "outputs": [
    {
     "data": {
      "text/plain": [
       "{'a': [2, 3, 5], 'b': 'Kunj'}"
      ]
     },
     "execution_count": 3,
     "metadata": {},
     "output_type": "execute_result"
    }
   ],
   "source": [
    "#Q2. Why *args and **kwargs is used in some functions? Create a function each for *args and **kwargs\n",
    "#to demonstrate their use.\n",
    "#Ans:\n",
    "'''*args: is just argument is used to pass variable which\n",
    "have no keyword argument to a function.\n",
    "**kwrgs: it is used to pass varible which have keyword\n",
    "arguments to the function.\n",
    "'''\n",
    "def test(*args):\n",
    "    return args\n",
    "test(1,2,3)\n",
    "\n",
    "def test1(**kwargs):\n",
    "    return kwargs\n",
    "test1(a=[2,3,5,],b=\"Kunj\")"
   ]
  },
  {
   "cell_type": "code",
   "execution_count": 8,
   "id": "2361efd9-08f4-4521-b2c1-47bd12c63d5f",
   "metadata": {},
   "outputs": [
    {
     "name": "stdout",
     "output_type": "stream",
     "text": [
      "2\n",
      "4\n",
      "6\n",
      "8\n",
      "10\n",
      "12\n",
      "45\n"
     ]
    }
   ],
   "source": [
    "'''Q 3:What is an iterator in python? Name the method used to initialise the iterator object and the method\n",
    "used for iteration. Use these methods to print the first five elements of the given list [2, 4, 6, 8, 10, 12, 14,\n",
    "16, 18, 20].'''\n",
    "#Ans:\n",
    "# iterator means that you can traverse through all value\n",
    "#iter() is used  to initilize the iterator\n",
    "l1 = [2, 4, 6, 8, 10, 12,45,3,64,74]\n",
    "l2 = iter(l1)\n",
    "for i in range(7):\n",
    "    print(next(l2))\n"
   ]
  },
  {
   "cell_type": "code",
   "execution_count": 12,
   "id": "f99ab801-e4ab-4df0-94fe-0d0c85715eb3",
   "metadata": {},
   "outputs": [
    {
     "name": "stdout",
     "output_type": "stream",
     "text": [
      "0\n",
      "1\n",
      "2\n",
      "3\n",
      "4\n",
      "5\n",
      "6\n",
      "7\n",
      "8\n",
      "9\n"
     ]
    }
   ],
   "source": [
    "#Q4:What is a generator function in python? Why yield keyword is used? Give an example of a generator\n",
    "#function.\n",
    "#Ans:\n",
    "'''Generator function : generator function is used to generate\n",
    "value or give output one by one.\n",
    "yield keyword is used to return a generator object that can be iterated over.\n",
    "'''\n",
    "def test_fib(n):\n",
    "    a,b = 0,1\n",
    "    for i in range(n):\n",
    "        yield a \n",
    "        a,b=b,a+b\n",
    "for i in range(10):\n",
    "     print(i)\n",
    "            \n",
    "\n"
   ]
  },
  {
   "cell_type": "code",
   "execution_count": 2,
   "id": "3b5a607b-9886-4a6f-b3ea-c9b0458e2317",
   "metadata": {},
   "outputs": [
    {
     "name": "stdout",
     "output_type": "stream",
     "text": [
      "2\n",
      "3\n",
      "5\n",
      "7\n",
      "11\n",
      "13\n",
      "17\n",
      "19\n",
      "23\n",
      "29\n",
      "31\n",
      "37\n",
      "41\n",
      "43\n",
      "47\n",
      "53\n",
      "59\n",
      "61\n",
      "67\n",
      "71\n"
     ]
    }
   ],
   "source": [
    "#Q5. Create a generator function for prime numbers less than 1000. Use the next() method to print the\n",
    "#first 20 prime numbers.\n",
    "#Ans:\n",
    "def prime_numbers():\n",
    "    primes = []\n",
    "    for num in range(2, 1000):\n",
    "        if all(num % i != 0 for i in range(2, int(num ** 0.5) + 1)):\n",
    "            primes.append(num)\n",
    "            yield num\n",
    "\n",
    "primes = prime_numbers()\n",
    "for i in range(20):\n",
    "    print(next(primes))"
   ]
  },
  {
   "cell_type": "code",
   "execution_count": 17,
   "id": "237a2081-0fa2-4f2a-b679-bbc3f77450be",
   "metadata": {},
   "outputs": [
    {
     "name": "stdout",
     "output_type": "stream",
     "text": [
      "0\n",
      "1\n",
      "1\n",
      "2\n",
      "3\n",
      "5\n",
      "8\n",
      "13\n",
      "21\n",
      "34\n"
     ]
    }
   ],
   "source": [
    "#Q6:Write a python program to print the first 10 Fibonacci numbers using a while loop.\n",
    "#Ans:\n",
    "\n",
    "a = 0\n",
    "b = 1\n",
    "\n",
    "count = 0\n",
    "\n",
    "while count < 10:\n",
    "    print(a)\n",
    "    next_num = a + b\n",
    "    a = b\n",
    "    b = next_num\n",
    "    count += 1"
   ]
  },
  {
   "cell_type": "code",
   "execution_count": 19,
   "id": "1928b15f-e161-495f-96e7-bfdc5aed0218",
   "metadata": {},
   "outputs": [
    {
     "name": "stdout",
     "output_type": "stream",
     "text": [
      "['p', 'w', 's', 'k', 'i', 'l', 'l', 's']\n"
     ]
    }
   ],
   "source": [
    "#Q7:Write a List Comprehension to iterate through the given string: ‘pwskills’.\n",
    "#Expected output: ['p', 'w', 's', 'k', 'i', 'l', 'l', 's']\n",
    "#Ans:\n",
    "string = 'pwskills'\n",
    "output = [char for char in string if char in 'pwskills']\n",
    "\n",
    "print(output)"
   ]
  },
  {
   "cell_type": "code",
   "execution_count": 3,
   "id": "2d6483b7-8650-422c-b5c5-0aa1516a12e5",
   "metadata": {},
   "outputs": [
    {
     "name": "stdin",
     "output_type": "stream",
     "text": [
      "Enter a number:  1001\n"
     ]
    },
    {
     "name": "stdout",
     "output_type": "stream",
     "text": [
      "1001 is a palindrome.\n"
     ]
    }
   ],
   "source": [
    "#Q8:Q8. Write a python program to check whether a given number is Palindrome or not using a while loop.\n",
    "#Ans:\n",
    "def is_palindrome(number):\n",
    "    original_number = number\n",
    "    reverse = 0\n",
    "\n",
    "    while number > 0:\n",
    "        \n",
    "        digit = number % 10\n",
    "\n",
    "        reverse = reverse * 10 + digit\n",
    "\n",
    "        number = number // 10\n",
    "\n",
    "    if original_number == reverse:\n",
    "        return True\n",
    "    else:\n",
    "        return False\n",
    "\n",
    "number = int(input(\"Enter a number: \"))\n",
    "\n",
    "if is_palindrome(number):\n",
    "    print(number, \"is a palindrome.\")\n",
    "else:\n",
    "    print(number, \"is not a palindrome.\")\n"
   ]
  },
  {
   "cell_type": "code",
   "execution_count": 1,
   "id": "c1322c4c-9add-4e38-819c-bd9468cc63b8",
   "metadata": {},
   "outputs": [
    {
     "name": "stdout",
     "output_type": "stream",
     "text": [
      "[1, 3, 5, 7, 9, 11, 13, 15, 17, 19, 21, 23, 25, 27, 29, 31, 33, 35, 37, 39, 41, 43, 45, 47, 49, 51, 53, 55, 57, 59, 61, 63, 65, 67, 69, 71, 73, 75, 77, 79, 81, 83, 85, 87, 89, 91, 93, 95, 97, 99]\n"
     ]
    }
   ],
   "source": [
    "#Q9. Write a code to print odd numbers from 1 to 100 using list comprehension. \n",
    "#Ans:\n",
    "odd_numbers = [num for num in range(1, 101) if num % 2 != 0]\n",
    "\n",
    "print(odd_numbers)\n"
   ]
  },
  {
   "cell_type": "code",
   "execution_count": null,
   "id": "e196d630-7e57-4928-bc87-eb4126e14239",
   "metadata": {},
   "outputs": [],
   "source": []
  }
 ],
 "metadata": {
  "kernelspec": {
   "display_name": "Python 3 (ipykernel)",
   "language": "python",
   "name": "python3"
  },
  "language_info": {
   "codemirror_mode": {
    "name": "ipython",
    "version": 3
   },
   "file_extension": ".py",
   "mimetype": "text/x-python",
   "name": "python",
   "nbconvert_exporter": "python",
   "pygments_lexer": "ipython3",
   "version": "3.10.8"
  }
 },
 "nbformat": 4,
 "nbformat_minor": 5
}
